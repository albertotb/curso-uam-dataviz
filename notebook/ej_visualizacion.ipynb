{
 "cells": [
  {
   "cell_type": "markdown",
   "metadata": {},
   "source": [
    "# Ejercicios"
   ]
  },
  {
   "cell_type": "markdown",
   "metadata": {},
   "source": [
    "## Palmer penguins\n",
    "\n",
    "Descargar los datos de [Palmer penguins](https://allisonhorst.github.io/palmerpenguins/articles/intro.html) del repositorio de [Github](https://github.com/allisonhorst/palmerpenguins/tree/master/inst/extdata):\n",
    "\n",
    "  - Cargar los datos en Python\n",
    "    \n",
    "  - Replicar las dos visualizaciones de ejemplo que aparecen en el repositorio:\n",
    "\n",
    "<img src=\"../img/README-flipper-hist-1.png\" alt=\"Drawing\" style=\"width: 600px;\"/>\n",
    "\n",
    "<img src=\"../img/README-mass-flipper-1.png\" alt=\"Drawing\" style=\"width: 600px;\"/>\n",
    "\n",
    "  - ¿Cómo se podría mejorar la primera visualización?\n",
    "  \n",
    "  - ¿Qué conclusiones sacas?"
   ]
  },
  {
   "cell_type": "markdown",
   "metadata": {},
   "source": [
    "## BiciMAD\n",
    "\n",
    " - Cargar los datos en Python\n",
    " \n",
    " - Explorar las datos (¿qué información contiene?)\n",
    " \n",
    " - Realizar un gráfico a elección que muestre algo interesante del conjunto de datos. Ejemplos:\n",
    " \n",
    "     - ¿Existen patrones estacionales en el uso de bicicletas?\n",
    "     \n",
    "     - ¿Existen patrones diarios en los tipos de abono (ocasional/anual)?"
   ]
  },
  {
   "cell_type": "markdown",
   "metadata": {},
   "source": [
    "# NYC Flights\n",
    "\n",
    "- Cargar el conjunto de datos `nycflights.csv` en Python\n",
    "\n",
    "- Comprobar realizando una visualización si el retraso medio en las llegadas depende o no de la hora del día / número de vuelos"
   ]
  },
  {
   "cell_type": "markdown",
   "metadata": {},
   "source": [
    "## Gapminder\n",
    "\n",
    "- Cargar el conjunto de datos `gapminder.csv` en Python\n",
    "\n",
    "- Representar con un gráfico de puntos la esperanza de vida de 2007 para todos los paises de Asia\n",
    "\n",
    "- ¿Cómo podríamos representar ese mismo gráfico si nos interesara comparar la esperanza de vida de todos los países con un concreto?\n",
    "\n",
    "- Representar la evolución de la esperanza de vida media en todos los continentes"
   ]
  },
  {
   "cell_type": "markdown",
   "metadata": {},
   "source": [
    "## Ventas\n",
    "\n",
    "- Cargar el conjunto de datos `ventas.csv` en Python\n",
    "\n",
    "- Calcular la matriz de correlación de las ventas para todos los distintos pares de productos\n",
    "\n",
    "- Representar la matriz de correlación como un mapa de calor"
   ]
  },
  {
   "cell_type": "code",
   "execution_count": null,
   "metadata": {},
   "outputs": [],
   "source": []
  }
 ],
 "metadata": {
  "kernelspec": {
   "display_name": "Python 3",
   "language": "python",
   "name": "python3"
  },
  "language_info": {
   "codemirror_mode": {
    "name": "ipython",
    "version": 3
   },
   "file_extension": ".py",
   "mimetype": "text/x-python",
   "name": "python",
   "nbconvert_exporter": "python",
   "pygments_lexer": "ipython3",
   "version": "3.8.10"
  }
 },
 "nbformat": 4,
 "nbformat_minor": 4
}
